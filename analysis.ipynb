{
 "cells": [
  {
   "cell_type": "code",
   "execution_count": 1,
   "metadata": {},
   "outputs": [],
   "source": [
    "# SH-I"
   ]
  },
  {
   "cell_type": "code",
   "execution_count": 2,
   "metadata": {},
   "outputs": [],
   "source": [
    "import os\n",
    "import numpy as np\n",
    "import pandas as pd\n",
    "import matplotlib.pyplot as plt\n",
    "from sklearn.metrics import confusion_matrix"
   ]
  },
  {
   "cell_type": "code",
   "execution_count": 3,
   "metadata": {},
   "outputs": [],
   "source": [
    "files = [f for f in os.listdir() if (f.startswith('G3C_predicted') and f.endswith('.csv'))]"
   ]
  },
  {
   "cell_type": "code",
   "execution_count": 4,
   "metadata": {},
   "outputs": [],
   "source": [
    "possible = ['hh', 'mm', 'll', 'hm', 'hl', 'mh', 'ml', 'lh', 'lm']"
   ]
  },
  {
   "cell_type": "code",
   "execution_count": 5,
   "metadata": {},
   "outputs": [],
   "source": [
    "def abbreviate(binding):\n",
    "    binding = binding.replace('low', 'l')\n",
    "    binding = binding.replace('medium', 'm')\n",
    "    binding = binding.replace('high', 'h')\n",
    "    return binding"
   ]
  },
  {
   "cell_type": "code",
   "execution_count": 6,
   "metadata": {},
   "outputs": [],
   "source": [
    "comp = pd.DataFrame()\n",
    "result = pd.DataFrame(columns = ['params'] + possible)\n",
    "\n",
    "for file in files:\n",
    "    data = pd.read_csv(file)\n",
    "    \n",
    "    if not 'IUPAC' in comp:\n",
    "        iupac = data['IUPAC']\n",
    "        comp['IUPAC'] = iupac\n",
    "\n",
    "    tar_pred = data['binding'].apply(abbreviate) + data['prediction'].apply(abbreviate)\n",
    "    col_name = file.replace('G3C_predicted_', '').replace('.csv', '')\n",
    "    comp[col_name] = tar_pred\n",
    "    \n",
    "    counts = {p : list(tar_pred).count(p) for p in possible}\n",
    "    counts['params'] = col_name\n",
    "    result = result.append(counts, ignore_index = True)"
   ]
  },
  {
   "cell_type": "code",
   "execution_count": 7,
   "metadata": {},
   "outputs": [],
   "source": [
    "result['acc'] = ((result['hh'] + result['mm'] + result['ll']) / 603) * 100"
   ]
  },
  {
   "cell_type": "code",
   "execution_count": 8,
   "metadata": {},
   "outputs": [],
   "source": [
    "result['acc_h'] = result['hh'] / (result['hh'] + result['hm'] + result['hl'])\n",
    "result['acc_m'] = result['mm'] / (result['mh'] + result['mm'] + result['ml'])\n",
    "result['acc_l'] = result['ll'] / (result['lh'] + result['lm'] + result['ll'])"
   ]
  },
  {
   "cell_type": "code",
   "execution_count": 9,
   "metadata": {},
   "outputs": [
    {
     "data": {
      "text/html": [
       "<div>\n",
       "<style scoped>\n",
       "    .dataframe tbody tr th:only-of-type {\n",
       "        vertical-align: middle;\n",
       "    }\n",
       "\n",
       "    .dataframe tbody tr th {\n",
       "        vertical-align: top;\n",
       "    }\n",
       "\n",
       "    .dataframe thead th {\n",
       "        text-align: right;\n",
       "    }\n",
       "</style>\n",
       "<table border=\"1\" class=\"dataframe\">\n",
       "  <thead>\n",
       "    <tr style=\"text-align: right;\">\n",
       "      <th></th>\n",
       "      <th>params</th>\n",
       "      <th>hh</th>\n",
       "      <th>mm</th>\n",
       "      <th>ll</th>\n",
       "      <th>hm</th>\n",
       "      <th>hl</th>\n",
       "      <th>mh</th>\n",
       "      <th>ml</th>\n",
       "      <th>lh</th>\n",
       "      <th>lm</th>\n",
       "      <th>acc</th>\n",
       "      <th>acc_h</th>\n",
       "      <th>acc_m</th>\n",
       "      <th>acc_l</th>\n",
       "    </tr>\n",
       "  </thead>\n",
       "  <tbody>\n",
       "    <tr>\n",
       "      <th>0</th>\n",
       "      <td>epochs100_lr1.0_soft</td>\n",
       "      <td>17</td>\n",
       "      <td>20</td>\n",
       "      <td>521</td>\n",
       "      <td>3</td>\n",
       "      <td>2</td>\n",
       "      <td>4</td>\n",
       "      <td>16</td>\n",
       "      <td>2</td>\n",
       "      <td>18</td>\n",
       "      <td>92.5373</td>\n",
       "      <td>0.772727</td>\n",
       "      <td>0.5</td>\n",
       "      <td>0.963031</td>\n",
       "    </tr>\n",
       "    <tr>\n",
       "      <th>2</th>\n",
       "      <td>epochs50_lr1.0_soft</td>\n",
       "      <td>17</td>\n",
       "      <td>21</td>\n",
       "      <td>520</td>\n",
       "      <td>2</td>\n",
       "      <td>3</td>\n",
       "      <td>5</td>\n",
       "      <td>14</td>\n",
       "      <td>3</td>\n",
       "      <td>18</td>\n",
       "      <td>92.5373</td>\n",
       "      <td>0.772727</td>\n",
       "      <td>0.525</td>\n",
       "      <td>0.961183</td>\n",
       "    </tr>\n",
       "    <tr>\n",
       "      <th>1</th>\n",
       "      <td>epochs25_lr1.0_soft</td>\n",
       "      <td>16</td>\n",
       "      <td>20</td>\n",
       "      <td>520</td>\n",
       "      <td>3</td>\n",
       "      <td>3</td>\n",
       "      <td>3</td>\n",
       "      <td>17</td>\n",
       "      <td>3</td>\n",
       "      <td>18</td>\n",
       "      <td>92.2056</td>\n",
       "      <td>0.727273</td>\n",
       "      <td>0.5</td>\n",
       "      <td>0.961183</td>\n",
       "    </tr>\n",
       "    <tr>\n",
       "      <th>4</th>\n",
       "      <td>epochs200_lr1.0_soft</td>\n",
       "      <td>17</td>\n",
       "      <td>20</td>\n",
       "      <td>519</td>\n",
       "      <td>3</td>\n",
       "      <td>2</td>\n",
       "      <td>5</td>\n",
       "      <td>15</td>\n",
       "      <td>2</td>\n",
       "      <td>20</td>\n",
       "      <td>92.2056</td>\n",
       "      <td>0.772727</td>\n",
       "      <td>0.5</td>\n",
       "      <td>0.959335</td>\n",
       "    </tr>\n",
       "    <tr>\n",
       "      <th>3</th>\n",
       "      <td>epochs5_lr1.0_soft</td>\n",
       "      <td>15</td>\n",
       "      <td>2</td>\n",
       "      <td>530</td>\n",
       "      <td>0</td>\n",
       "      <td>7</td>\n",
       "      <td>3</td>\n",
       "      <td>35</td>\n",
       "      <td>2</td>\n",
       "      <td>9</td>\n",
       "      <td>90.7131</td>\n",
       "      <td>0.681818</td>\n",
       "      <td>0.05</td>\n",
       "      <td>0.979667</td>\n",
       "    </tr>\n",
       "  </tbody>\n",
       "</table>\n",
       "</div>"
      ],
      "text/plain": [
       "                 params  hh  mm   ll hm hl mh  ml lh  lm      acc     acc_h  \\\n",
       "0  epochs100_lr1.0_soft  17  20  521  3  2  4  16  2  18  92.5373  0.772727   \n",
       "2   epochs50_lr1.0_soft  17  21  520  2  3  5  14  3  18  92.5373  0.772727   \n",
       "1   epochs25_lr1.0_soft  16  20  520  3  3  3  17  3  18  92.2056  0.727273   \n",
       "4  epochs200_lr1.0_soft  17  20  519  3  2  5  15  2  20  92.2056  0.772727   \n",
       "3    epochs5_lr1.0_soft  15   2  530  0  7  3  35  2   9  90.7131  0.681818   \n",
       "\n",
       "   acc_m     acc_l  \n",
       "0    0.5  0.963031  \n",
       "2  0.525  0.961183  \n",
       "1    0.5  0.961183  \n",
       "4    0.5  0.959335  \n",
       "3   0.05  0.979667  "
      ]
     },
     "execution_count": 9,
     "metadata": {},
     "output_type": "execute_result"
    }
   ],
   "source": [
    "result.sort_values('acc', ascending = False)"
   ]
  },
  {
   "cell_type": "code",
   "execution_count": 10,
   "metadata": {},
   "outputs": [],
   "source": [
    "comp.to_csv('G3C_comparison_soft.csv', index = False)\n",
    "result.to_csv('G3C_result_soft.csv', index = False)"
   ]
  },
  {
   "cell_type": "code",
   "execution_count": 11,
   "metadata": {},
   "outputs": [],
   "source": [
    "# sort\n",
    "fix = 'epochs'\n",
    "val_list = []\n",
    "\n",
    "for p in result['params']:\n",
    "    for e in p.split('_'):\n",
    "        if fix in e:\n",
    "            val = float(e.replace(fix, ''))\n",
    "            val_list.append(val)\n",
    "            \n",
    "result['val'] = val_list\n",
    "result = result.sort_values('val')\n",
    "result['val'] = result['val'].astype(int).astype(str)"
   ]
  },
  {
   "cell_type": "code",
   "execution_count": 12,
   "metadata": {},
   "outputs": [
    {
     "data": {
      "image/png": "[encoded data removed]",
      "text/plain": [
       "<Figure size 432x288 with 1 Axes>"
      ]
     },
     "metadata": {
      "needs_background": "light"
     },
     "output_type": "display_data"
    }
   ],
   "source": [
    "# plot class\n",
    "plt.plot(result['val'], result['acc_h'].values, label = 'high')\n",
    "plt.plot(result['val'], result['acc_m'].values, label = 'medium')\n",
    "plt.plot(result['val'], result['acc_l'].values, label = 'low')\n",
    "plt.xlabel(fix)\n",
    "plt.ylabel('accuracy')\n",
    "plt.legend(loc = 'lower right')\n",
    "\n",
    "plt.savefig(fix + '_soft.pdf', bbox_inches = 'tight')\n",
    "plt.show()"
   ]
  },
  {
   "cell_type": "code",
   "execution_count": 13,
   "metadata": {},
   "outputs": [
    {
     "data": {
      "image/png": "[encoded data removed]",
      "text/plain": [
       "<Figure size 432x288 with 1 Axes>"
      ]
     },
     "metadata": {
      "needs_background": "light"
     },
     "output_type": "display_data"
    }
   ],
   "source": [
    "# plot accuracy\n",
    "\n",
    "plt.plot(result['val'], result['acc'].values)\n",
    "plt.xlabel(fix)\n",
    "plt.ylabel('accuracy')\n",
    "\n",
    "plt.savefig(fix + '_acc_soft.pdf', bbox_inches = 'tight')\n",
    "plt.show()"
   ]
  },
  {
   "cell_type": "code",
   "execution_count": null,
   "metadata": {},
   "outputs": [],
   "source": []
  }
 ],
 "metadata": {
  "kernelspec": {
   "display_name": "Python 3",
   "language": "python",
   "name": "python3"
  },
  "language_info": {
   "codemirror_mode": {
    "name": "ipython",
    "version": 3
   },
   "file_extension": ".py",
   "mimetype": "text/x-python",
   "name": "python",
   "nbconvert_exporter": "python",
   "pygments_lexer": "ipython3",
   "version": "3.7.3"
  }
 },
 "nbformat": 4,
 "nbformat_minor": 2
}
